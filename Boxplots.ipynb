{
 "cells": [
  {
   "cell_type": "markdown",
   "metadata": {},
   "source": [
    "# Project 2018 Fundamentals of Data Analysis "
   ]
  },
  {
   "cell_type": "markdown",
   "metadata": {},
   "source": [
    "## Problem statement \n",
    "\n",
    "The boxplot is common in data analysis for investigating individual numerical variables. In this project, you will investigate and explain box plots and their uses. The boxplot function from the Python package matplotlib.pyplot can be used to create box plots. Your submission should be in the form of a repository containing a Jupyter notebook in which you detail your ﬁndings. In your notebook, you should\n",
    "\n",
    "- Summarise the history of the box plot and situations in which it used.\n",
    "- Demonstrate the use of the box plot using data of your choosing. \n",
    "- Explain any relevant terminology such as the terms quartile and percentile. \n",
    "- Compare the box plot to alternatives.\n"
   ]
  },
  {
   "cell_type": "markdown",
   "metadata": {},
   "source": [
    "The boxplot function from the Python package matplotlib.pyplot can be used to create box plots. \n",
    "\n",
    "<img src=\"https://matplotlib.org/_static/logo2.png\">\n",
    "   "
   ]
  },
  {
   "cell_type": "markdown",
   "metadata": {},
   "source": [
    "### Summarise the history of the box plot and situations in which it used."
   ]
  },
  {
   "cell_type": "markdown",
   "metadata": {},
   "source": [
    "A box and whisker plot (sometimes called a boxplot) is a graph that presents information from a five-number summary. It does not show a distribution in as much detail as a stem and leaf plot or histogram does, but is especially useful for indicating whether a distribution is skewed and whether there are potential unusual observations (outliers) in the data set. Box and whisker plots are also very useful when large numbers of observations are involved and when two or more data sets are being compared.\n",
    "\n",
    "A five-number summary is especially useful in descriptive analyses or during the preliminary investigation of a large data set. \n",
    "\n",
    "**A summary consists of five values:** \n",
    "\n",
    "- The most extreme values in the data set (the maximum and minimum values) \n",
    "- The lower and upper quartiles, and the median. \n",
    "\n",
    "These values are presented together and **ordered from lowest to highest**\n",
    "- minimum value, lower quartile (Q1), \n",
    "- median value (Q2)\n",
    "- upper quartile (Q3)\n",
    "- maximum value.\n",
    "\n",
    "These values have been selected to give a summary of a data set because each value describes a specific part of a data set: \n",
    "- The median identifies the centre of a data set; \n",
    "- The upper and lower quartiles span the middle half of a data set; \n",
    "- The highest and lowest observations provide additional information about the actual dispersion of the data. \n",
    "\n",
    "This makes the five-number summary a useful measure of spread.\n",
    "A five-number summary can be represented in a diagram known as a box and whisker plot. In cases where we have more than one data set to analyse, a five-number summary with a corresponding box and whisker plot is constructed for each.\n"
   ]
  },
  {
   "cell_type": "markdown",
   "metadata": {},
   "source": [
    "<img src=\"https://cdn-images-1.medium.com/max/1500/1*2c21SkzJMf3frPXPAR_gZA.png\">"
   ]
  },
  {
   "cell_type": "markdown",
   "metadata": {},
   "source": [
    "An Example of using Boxplots for random data, using the uniform distribution, as follows:"
   ]
  },
  {
   "cell_type": "code",
   "execution_count": 5,
   "metadata": {},
   "outputs": [],
   "source": [
    "import numpy as np # to generate random data\n",
    "import matplotlib as ml\n",
    "import matplotlib.pyplot as plt # boxplot function from python package to create boxplot"
   ]
  },
  {
   "cell_type": "code",
   "execution_count": 8,
   "metadata": {},
   "outputs": [],
   "source": [
    "np.random.seed(10)# Fixing random state for reproducibility\n",
    "GP1 = np.random.uniform(18,24,100)\n",
    "GP2 = np.random.uniform(25,44,100)\n",
    "GP3 = np.random.uniform(45,64,100)\n",
    "GP4 = np.random.uniform(65,90,100)\n",
    "GP = [GP1,GP2,GP3,GP4]"
   ]
  },
  {
   "cell_type": "code",
   "execution_count": 9,
   "metadata": {},
   "outputs": [
    {
     "data": {
      "text/plain": [
       "{'whiskers': [<matplotlib.lines.Line2D at 0x1bd3f7ba1d0>,\n",
       "  <matplotlib.lines.Line2D at 0x1bd3f7ba668>,\n",
       "  <matplotlib.lines.Line2D at 0x1bd3f7c9fd0>,\n",
       "  <matplotlib.lines.Line2D at 0x1bd3f7d2438>,\n",
       "  <matplotlib.lines.Line2D at 0x1bd3f7dcd68>,\n",
       "  <matplotlib.lines.Line2D at 0x1bd3f7e41d0>,\n",
       "  <matplotlib.lines.Line2D at 0x1bd3f7ecb00>,\n",
       "  <matplotlib.lines.Line2D at 0x1bd3f7ecf28>],\n",
       " 'caps': [<matplotlib.lines.Line2D at 0x1bd3f7baa90>,\n",
       "  <matplotlib.lines.Line2D at 0x1bd3f7baeb8>,\n",
       "  <matplotlib.lines.Line2D at 0x1bd3f7d2860>,\n",
       "  <matplotlib.lines.Line2D at 0x1bd3f7d2c88>,\n",
       "  <matplotlib.lines.Line2D at 0x1bd3f7e45f8>,\n",
       "  <matplotlib.lines.Line2D at 0x1bd3f7e4a20>,\n",
       "  <matplotlib.lines.Line2D at 0x1bd3f7f5390>,\n",
       "  <matplotlib.lines.Line2D at 0x1bd3f7f57b8>],\n",
       " 'boxes': [<matplotlib.lines.Line2D at 0x1bd3f7ba080>,\n",
       "  <matplotlib.lines.Line2D at 0x1bd3f7c9ba8>,\n",
       "  <matplotlib.lines.Line2D at 0x1bd3f7dc908>,\n",
       "  <matplotlib.lines.Line2D at 0x1bd3f7ec6a0>],\n",
       " 'medians': [<matplotlib.lines.Line2D at 0x1bd3f7c9320>,\n",
       "  <matplotlib.lines.Line2D at 0x1bd3f7dc0f0>,\n",
       "  <matplotlib.lines.Line2D at 0x1bd3f7e4e48>,\n",
       "  <matplotlib.lines.Line2D at 0x1bd3f7f5be0>],\n",
       " 'fliers': [<matplotlib.lines.Line2D at 0x1bd3f7c9748>,\n",
       "  <matplotlib.lines.Line2D at 0x1bd3f7dc518>,\n",
       "  <matplotlib.lines.Line2D at 0x1bd3f7ec2b0>,\n",
       "  <matplotlib.lines.Line2D at 0x1bd3f7fe048>],\n",
       " 'means': []}"
      ]
     },
     "execution_count": 9,
     "metadata": {},
     "output_type": "execute_result"
    },
    {
     "data": {
      "image/png": "[encoded data removed]",
      "text/plain": [
       "<Figure size 432x288 with 1 Axes>"
      ]
     },
     "metadata": {},
     "output_type": "display_data"
    }
   ],
   "source": [
    "fig1, ax1 = plt.subplots()\n",
    "ax1.set_title('Basic Box Plot')\n",
    "ax1.boxplot(GP)"
   ]
  },
  {
   "cell_type": "markdown",
   "metadata": {},
   "source": [
    "Example boxplot\n",
    "- using python and matplotlib and numpy.random.rand\n",
    "\n"
   ]
  },
  {
   "cell_type": "code",
   "execution_count": 10,
   "metadata": {},
   "outputs": [
    {
     "data": {
      "text/plain": [
       "{'whiskers': [<matplotlib.lines.Line2D at 0x1bd3f859780>,\n",
       "  <matplotlib.lines.Line2D at 0x1bd3f859c18>],\n",
       " 'caps': [<matplotlib.lines.Line2D at 0x1bd3f861080>,\n",
       "  <matplotlib.lines.Line2D at 0x1bd3f8614a8>],\n",
       " 'boxes': [<matplotlib.lines.Line2D at 0x1bd3f859630>],\n",
       " 'medians': [<matplotlib.lines.Line2D at 0x1bd3f861860>],\n",
       " 'fliers': [<matplotlib.lines.Line2D at 0x1bd3f861c88>],\n",
       " 'means': []}"
      ]
     },
     "execution_count": 10,
     "metadata": {},
     "output_type": "execute_result"
    },
    {
     "data": {
      "image/png": "[encoded data removed]",
      "text/plain": [
       "<Figure size 432x288 with 1 Axes>"
      ]
     },
     "metadata": {},
     "output_type": "display_data"
    }
   ],
   "source": [
    "import numpy as np\n",
    "import matplotlib.pyplot as plt\n",
    "\n",
    "data = np.random.rand(100)\n",
    "plt.boxplot(data)"
   ]
  },
  {
   "cell_type": "markdown",
   "metadata": {},
   "source": [
    "The box will range from the 25th-percentile to 75th-percentile\n",
    "The whisker will range from the smallest value to the largest value between \n",
    "- 25th-percentile - 1.5 IQR\n",
    "- 75th-percentile + 1.5IQR \n",
    "- where the IQR denotes the inter-quartile range. "
   ]
  },
  {
   "cell_type": "markdown",
   "metadata": {},
   "source": [
    "<img src=\"https://i.stack.imgur.com/FBqdp.png\">"
   ]
  },
  {
   "cell_type": "markdown",
   "metadata": {},
   "source": [
    "Now I want to know the values used in the boxplot, i.e. the median, upper and lower quartile, the upper whisker end point and the lower whisker end point. While the former three is easy to obtain by using \n",
    "- np.median()  \n",
    "- np.percentile() \n",
    "\n",
    "The end point of the whiskers will require some additional coding as follows"
   ]
  },
  {
   "cell_type": "code",
   "execution_count": 11,
   "metadata": {},
   "outputs": [
    {
     "data": {
      "text/plain": [
       "0.5384462843879407"
      ]
     },
     "execution_count": 11,
     "metadata": {},
     "output_type": "execute_result"
    }
   ],
   "source": [
    "np.median(data)"
   ]
  },
  {
   "cell_type": "code",
   "execution_count": 12,
   "metadata": {},
   "outputs": [
    {
     "data": {
      "text/plain": [
       "0.7913617399491899"
      ]
     },
     "execution_count": 12,
     "metadata": {},
     "output_type": "execute_result"
    }
   ],
   "source": [
    "np.percentile(data,75)# upper quartile"
   ]
  },
  {
   "cell_type": "code",
   "execution_count": 13,
   "metadata": {},
   "outputs": [
    {
     "data": {
      "text/plain": [
       "0.2782221137050348"
      ]
     },
     "execution_count": 13,
     "metadata": {},
     "output_type": "execute_result"
    }
   ],
   "source": [
    "np.percentile(data,25)# lower quartile"
   ]
  },
  {
   "cell_type": "code",
   "execution_count": 14,
   "metadata": {},
   "outputs": [
    {
     "data": {
      "text/plain": [
       "[array([0.27822211, 0.00175965]), array([0.79136174, 0.98200392])]"
      ]
     },
     "execution_count": 14,
     "metadata": {},
     "output_type": "execute_result"
    },
    {
     "data": {
      "image/png": "[encoded data removed]",
      "text/plain": [
       "<Figure size 432x288 with 1 Axes>"
      ]
     },
     "metadata": {},
     "output_type": "display_data"
    }
   ],
   "source": [
    "B=plt.boxplot(data)\n",
    "[item.get_ydata() for item in B['whiskers']]"
   ]
  },
  {
   "cell_type": "code",
   "execution_count": 15,
   "metadata": {},
   "outputs": [
    {
     "data": {
      "text/plain": [
       "[0.2782221137050348, 0.7913617399491899]"
      ]
     },
     "execution_count": 15,
     "metadata": {},
     "output_type": "execute_result"
    }
   ],
   "source": [
    "[item.get_ydata()[0] for item in B['whiskers']]"
   ]
  },
  {
   "cell_type": "markdown",
   "metadata": {},
   "source": [
    "## The History of the Boxplot\n",
    "John Wilder Tukey (June 16, 1915 – July 26, 2000) was an American mathematician best known for development of the FFT algorithm and box plot.\n",
    "\n",
    "In descriptive statistics, a box plot or boxplot is a method for graphically depicting groups of numerical data through their quartiles. Box plots may also have lines extending vertically from the boxes (whiskers) indicating variability outside the upper and lower quartiles, hence the terms box-and-whisker plot and box-and-whisker diagram. Outliers may be plotted as individual points. Box plots are non-parametric: they display variation in samples of a statistical population without making any assumptions of the underlying statistical distribution (though Tukey's boxplot assumes symmetry for the whiskers and normality for their length). The spacings between the different parts of the box indicate the degree of dispersion (spread) and skewness in the data, and show outliers. In addition to the points themselves, they allow one to visually estimate various L-estimators, notably the interquartile range, midhinge, range, mid-range, and trimean. Box plots can be drawn either horizontally or vertically. Box plots received their name from the box in the middle.\n"
   ]
  },
  {
   "cell_type": "markdown",
   "metadata": {},
   "source": [
    "John Tukey introduced box plots in Exploratory Data Analysis in 1977. Draft copies of the book circulated earlier so box plots were used before then. They belong in the tool kit of any graph designer.\n",
    "\n",
    "Most statistical software programs offer box plots. Instructions for drawing box plots are available for other software but often require a number of steps to produce. A utility for drawing them, Peltier box and whisker plot utility, is available for Excel users at a modest cost. Some books and software have redefined the definitions of box plots. For example, they may plot means and variances rather than medians and quartiles or they may redefine outliers. Therefore, it is necessary to read the definition of box plots when you see them. I consider this to be unfortunate since the power of many good graphs is that they don’t need explanations to understand them, this definition follows those of Tukey."
   ]
  },
  {
   "cell_type": "markdown",
   "metadata": {},
   "source": [
    "### Demonstrate the use of box plot using data of your choosing\n",
    "\n",
    "### Analysing the data visually\n",
    "\n",
    "Let us look at the box plot of the well known *Iris dataset*, which shows us the visual representation of how our data is scattered over the the plane. \n",
    "Box plot is a percentile-based graph, which divides the data into four quartiles of 25% each. This method is used in statistical analysis to understand various measures such as mean, median and deviation."
   ]
  },
  {
   "cell_type": "code",
   "execution_count": 32,
   "metadata": {},
   "outputs": [
    {
     "data": {
      "image/png": "[encoded data removed]",
      "text/plain": [
       "<Figure size 720x360 with 1 Axes>"
      ]
     },
     "metadata": {},
     "output_type": "display_data"
    }
   ],
   "source": [
    "import seaborn as sns\n",
    "df = sns.load_dataset(\"iris\")\n",
    "sns.boxplot(data = iris,width=0.5,fliersize=5)\n",
    "sns.set(rc={'figure.figsize':(10,10)})"
   ]
  },
  {
   "cell_type": "markdown",
   "metadata": {},
   "source": [
    "### One numerical variable only\n",
    "\n",
    "If you have only one numerical variable, you can use this code to get a boxplot with only one group (left chart)."
   ]
  },
  {
   "cell_type": "code",
   "execution_count": 33,
   "metadata": {},
   "outputs": [
    {
     "data": {
      "text/plain": [
       "<matplotlib.axes._subplots.AxesSubplot at 0x1bd42e4f630>"
      ]
     },
     "execution_count": 33,
     "metadata": {},
     "output_type": "execute_result"
    },
    {
     "data": {
      "image/png": "[encoded data removed]",
      "text/plain": [
       "<Figure size 720x720 with 1 Axes>"
      ]
     },
     "metadata": {},
     "output_type": "display_data"
    }
   ],
   "source": [
    "# Make boxplot for one group only\n",
    "sns.boxplot( y=df[\"sepal_length\"] )\n",
    "#sns.plt.show()"
   ]
  },
  {
   "cell_type": "code",
   "execution_count": 34,
   "metadata": {},
   "outputs": [
    {
     "data": {
      "text/plain": [
       "<matplotlib.axes._subplots.AxesSubplot at 0x1bd42ea6748>"
      ]
     },
     "execution_count": 34,
     "metadata": {},
     "output_type": "execute_result"
    },
    {
     "data": {
      "image/png": "[encoded data removed]",
      "text/plain": [
       "<Figure size 720x720 with 1 Axes>"
      ]
     },
     "metadata": {},
     "output_type": "display_data"
    }
   ],
   "source": [
    "sns.boxplot( y=df[\"sepal_width\"] )"
   ]
  },
  {
   "cell_type": "code",
   "execution_count": 36,
   "metadata": {},
   "outputs": [
    {
     "data": {
      "text/plain": [
       "<matplotlib.axes._subplots.AxesSubplot at 0x1bd42abf940>"
      ]
     },
     "execution_count": 36,
     "metadata": {},
     "output_type": "execute_result"
    },
    {
     "data": {
      "image/png": "[encoded data removed]",
      "text/plain": [
       "<Figure size 720x720 with 1 Axes>"
      ]
     },
     "metadata": {},
     "output_type": "display_data"
    }
   ],
   "source": [
    "sns.boxplot( y=df[\"petal_length\"] )"
   ]
  },
  {
   "cell_type": "code",
   "execution_count": 37,
   "metadata": {},
   "outputs": [
    {
     "data": {
      "text/plain": [
       "<matplotlib.axes._subplots.AxesSubplot at 0x1bd42e994e0>"
      ]
     },
     "execution_count": 37,
     "metadata": {},
     "output_type": "execute_result"
    },
    {
     "data": {
      "image/png": "[encoded data removed]",
      "text/plain": [
       "<Figure size 720x720 with 1 Axes>"
      ]
     },
     "metadata": {},
     "output_type": "display_data"
    }
   ],
   "source": [
    "sns.boxplot( y=df[\"petal_width\"] )"
   ]
  },
  {
   "cell_type": "markdown",
   "metadata": {},
   "source": [
    "### One numerical variable, and several groups\n",
    "\n",
    "Let’s say we want to study the distribution of a numerical variable, but for each group separately. Here we study the sepal length of 3 species of flower."
   ]
  },
  {
   "cell_type": "code",
   "execution_count": 38,
   "metadata": {},
   "outputs": [
    {
     "data": {
      "text/plain": [
       "<matplotlib.axes._subplots.AxesSubplot at 0x1bd3f806a58>"
      ]
     },
     "execution_count": 38,
     "metadata": {},
     "output_type": "execute_result"
    },
    {
     "data": {
      "image/png": "[encoded data removed]",
      "text/plain": [
       "<Figure size 720x720 with 1 Axes>"
      ]
     },
     "metadata": {},
     "output_type": "display_data"
    }
   ],
   "source": [
    "# library & dataset\n",
    "import seaborn as sns\n",
    "df = sns.load_dataset('iris')\n",
    " \n",
    "sns.boxplot( x=df[\"species\"], y=df[\"sepal_length\"] )\n",
    "#sns.plt.show()"
   ]
  },
  {
   "cell_type": "code",
   "execution_count": 39,
   "metadata": {},
   "outputs": [
    {
     "data": {
      "text/plain": [
       "<matplotlib.axes._subplots.AxesSubplot at 0x1bd42494748>"
      ]
     },
     "execution_count": 39,
     "metadata": {},
     "output_type": "execute_result"
    },
    {
     "data": {
      "image/png": "[encoded data removed]",
      "text/plain": [
       "<Figure size 720x720 with 1 Axes>"
      ]
     },
     "metadata": {},
     "output_type": "display_data"
    }
   ],
   "source": [
    "sns.boxplot( x=df[\"species\"], y=df[\"sepal_width\"] )\n",
    "#sns.plt.show()"
   ]
  },
  {
   "cell_type": "code",
   "execution_count": 40,
   "metadata": {},
   "outputs": [
    {
     "data": {
      "text/plain": [
       "<matplotlib.axes._subplots.AxesSubplot at 0x1bd3bf11e80>"
      ]
     },
     "execution_count": 40,
     "metadata": {},
     "output_type": "execute_result"
    },
    {
     "data": {
      "image/png": "[encoded data removed]",
      "text/plain": [
       "<Figure size 720x720 with 1 Axes>"
      ]
     },
     "metadata": {},
     "output_type": "display_data"
    }
   ],
   "source": [
    "sns.boxplot( x=df[\"species\"], y=df[\"petal_width\"] )\n",
    "#sns.plt.show()"
   ]
  },
  {
   "cell_type": "code",
   "execution_count": 42,
   "metadata": {},
   "outputs": [
    {
     "data": {
      "text/plain": [
       "<matplotlib.axes._subplots.AxesSubplot at 0x1bd4254bd68>"
      ]
     },
     "execution_count": 42,
     "metadata": {},
     "output_type": "execute_result"
    },
    {
     "data": {
      "image/png": "[encoded data removed]",
      "text/plain": [
       "<Figure size 720x720 with 1 Axes>"
      ]
     },
     "metadata": {},
     "output_type": "display_data"
    }
   ],
   "source": [
    "sns.boxplot( x=df[\"species\"], y=df[\"petal_length\"] )\n",
    "#sns.plt.show()"
   ]
  },
  {
   "cell_type": "markdown",
   "metadata": {},
   "source": [
    "### Several numerical variable\n",
    "\n",
    "Finally we can study the distribution of several numerical variables, let’s say sepal length and width:"
   ]
  },
  {
   "cell_type": "code",
   "execution_count": 43,
   "metadata": {},
   "outputs": [
    {
     "data": {
      "text/plain": [
       "<matplotlib.axes._subplots.AxesSubplot at 0x1bd42d74240>"
      ]
     },
     "execution_count": 43,
     "metadata": {},
     "output_type": "execute_result"
    },
    {
     "data": {
      "image/png": "[encoded data removed]",
      "text/plain": [
       "<Figure size 720x720 with 1 Axes>"
      ]
     },
     "metadata": {},
     "output_type": "display_data"
    }
   ],
   "source": [
    "# library & dataset\n",
    "import seaborn as sns\n",
    "df = sns.load_dataset('iris')\n",
    " \n",
    "sns.boxplot(data=df.iloc[:,0:2])\n",
    "#sns.plt.show()"
   ]
  },
  {
   "cell_type": "markdown",
   "metadata": {},
   "source": [
    "### Explain Relevant Terminology"
   ]
  },
  {
   "cell_type": "markdown",
   "metadata": {},
   "source": [
    "### Median\n",
    "The median (middle quartile) marks the mid-point of the data and is shown by the line that divides the box into two parts. Half the scores are greater than or equal to this value and half are less."
   ]
  },
  {
   "cell_type": "markdown",
   "metadata": {},
   "source": [
    "### Inter-quartile range\n",
    "The middle “box” represents the middle 50% of scores for the group. The range of scores from lower to upper quartile is referred to as the inter-quartile range. The middle 50% of scores fall within the inter-quartile range.\n"
   ]
  },
  {
   "cell_type": "markdown",
   "metadata": {},
   "source": [
    "### Upper quartile\n",
    "Seventy-five percent of the scores fall below the upper quartile."
   ]
  },
  {
   "cell_type": "markdown",
   "metadata": {},
   "source": [
    "### Lower quartile\n",
    "Twenty-five percent of scores fall below the lower quartile."
   ]
  },
  {
   "cell_type": "markdown",
   "metadata": {},
   "source": [
    "### Whiskers\n",
    "The upper and lower whiskers represent scores outside the middle 50%. Whiskers often (but not always) stretch over a wider range of scores than the middle quartile groups."
   ]
  },
  {
   "cell_type": "markdown",
   "metadata": {},
   "source": [
    "### Percentiles\n",
    "The proportion of values in a distribution that a specific value is greater than or equal to. For example, if you received a mark of 95% on a math test and this mark was greater than or equal to the marks of 88% of students then you would be in the 88th percentile."
   ]
  },
  {
   "cell_type": "markdown",
   "metadata": {},
   "source": [
    "### Quartiles\n",
    "In order to determine the interquartile range, a data set is divided into four equal parts. Each separating value is called a quartile (the first, the second, etc.). The second quartile is also known as the median.( The value of the middle item when the data are arranged from lowest to highest; a measure of central tendency. If there is an even number of observations, the median is the average of the two middle observations. \n",
    "In raw data,( Raw data Information that has not yet been organized, formatted, or analysed.) The median is the middle value, the point at which exactly half of the data are above it and half below. )\n"
   ]
  },
  {
   "cell_type": "markdown",
   "metadata": {},
   "source": [
    "## Compare the box plot to alternatives."
   ]
  },
  {
   "cell_type": "markdown",
   "metadata": {},
   "source": [
    "#### What Is a Histogram?\n",
    "A histogram is a type of bar chart that graphically displays the frequencies of a data set. Similar to a bar chart, a histogram plots the frequency, or raw count, on the Y-axis (vertical) and the variable being measured on the X-axis (horizontal).\n",
    "\n",
    "The only difference between a histogram and a bar chart is that a histogram displays frequencies for a group of data, rather than an individual data point; therefore, no spaces are present between the bars. Typically, a histogram groups data into small chunks (four to eight values per bar on the horizontal axis), unless the range of data is so great that it easier to identify general distribution trends with larger groupings.\n",
    "\n",
    "Comparing Histograms and Box Plots\n",
    "\n",
    "Although histograms and box plots are collectively part of the chart aid category, they do represent very different types of charts. Both charts effectively represent different data sets; however, in certain situations, one chart may be superior to the other in achieving the goal of identifying variances among data. The type of chart aid chosen depends on the type of data collected, rough analysis of data trends, and project goals\n",
    "\n",
    "A histogram is highly useful when wide variances exist among the observed frequencies for a particular data set. As seen in the two graphs to the left, the histogram shows that there are three peaks within the data, indicating it is tri-modal (three commonly recurring groups of numbers). This is important because to improve processes, it is critical to understand what is causing these three modes. Had this data simply been graphed using a box plot, the values would average one another out, causing the distribution to look roughly normal.\n",
    "\n",
    "Another instance when a histogram is preferable over a box plot is when there is very little variance among the observed frequencies. The histogram displayed to the right shows that there is little variance across the groups of data; however, when the same data points are graphed on a box plot, the distribution looks roughly normal with a high portion of the values falling below six.\n",
    "\n",
    "The final set of graphs shows how a box plot can be more useful than a histogram. This occurs when there is moderate variation among the observed frequencies, which causes the histogram to look ragged and non-symmetrical due to the way the data is grouped. This may lead one to assume the data is slightly skewed. However, when a box plot is used to graph the same data points, the chart indicates a perfect normal distribution"
   ]
  },
  {
   "cell_type": "markdown",
   "metadata": {},
   "source": [
    "Another chart form that is superior to histograms for comparing distributions and provides more information than bar charts do for comparing variables.”\n",
    "\n",
    "That chart form is a box plot, also called a box and whisker plot.\n",
    "\n",
    "The black dots represent the median time of visitors for each exhibition. The rectangles represent the middle half of the data; they go from the 25th percentile to the 75th percentile. The lines or whiskers go from the minimum to the maximum unless there are outliers. The open circles outside the whiskers show the outliers, which are defined as data points that are either more than 1.5 times the interquartile range (the length of the rectangle) from the 75th percentile or 1.5 times the interquartile range (IQR) less than the 25th percentile.  Note that distributions packed closely around the median do not have outliers.  Whether or not there are outliers -- not all data sets have them -- the whiskers extend to the largest value within 1.5 IQR from the 75th percentile with a corresponding definition for the lower whisker.\n",
    "\n",
    "The bar charts compared the times visitors spent at the various exhibitions by comparing their medians. Summary statistics such as means and medians do not show all that we know about the data. Four of the exhibitions above have median times of nine minutes: \"Silent Witness\", \"Kopje\", \"What is an Animal\", and \"Darkened Waters\". Although their median times are the same, their distributions are very different. \"Silent Witness\" and \"Kopje\" have smaller variation than do \"What is an Animal\" and \"Darkened Waters\". Therefore, the box plots provide a more complete picture of the data than did the bar chart.\n",
    "\n",
    "It is not easy to compare histograms of different distributions such as the twelve museum exhibitions shown in Figure 2. Even though I have used the same scales on all twelve figures and ordered the figures by median time from the bottom left to the top right, it is more difficult to compare medians or ranges of the data from the histograms than it was from the box plots.\n",
    "\n",
    "Controlling the panels so that they have the same scale comes at a price. Notice that there are not enough intervals in \"Silent Witness\" or \"Kopje\" to help to visualize their distributions. Using the same scale makes it easier to compare distributions at the expense of showing detail for some of the distributions with smaller variation. Figure 3 shows a redraw of the histogram for \"Kopje\" using the default values for scales and number of intervals. The shape of this distribution is described better with more intervals than we had using the same scale for all 12 panels. Box plots avoid the problems of choosing the interval width or number of bins needed for a histogram.\n",
    "\n"
   ]
  },
  {
   "cell_type": "markdown",
   "metadata": {},
   "source": [
    "## References"
   ]
  },
  {
   "cell_type": "code",
   "execution_count": null,
   "metadata": {},
   "outputs": [],
   "source": []
  }
 ],
 "metadata": {
  "kernelspec": {
   "display_name": "Python 3",
   "language": "python",
   "name": "python3"
  },
  "language_info": {
   "codemirror_mode": {
    "name": "ipython",
    "version": 3
   },
   "file_extension": ".py",
   "mimetype": "text/x-python",
   "name": "python",
   "nbconvert_exporter": "python",
   "pygments_lexer": "ipython3",
   "version": "3.6.5"
  }
 },
 "nbformat": 4,
 "nbformat_minor": 2
}
